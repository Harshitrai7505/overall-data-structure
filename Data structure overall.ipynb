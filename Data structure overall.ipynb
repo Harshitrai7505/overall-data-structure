{
 "cells": [
  {
   "cell_type": "markdown",
   "metadata": {},
   "source": [
    "# Q1- Write a code to reverse a string.\n",
    "\n",
    "There is no built-in fuction to reverse a String in Pyhton.\n",
    "\n",
    "The fastest (and easiest?) way is to use a slice that steps backwards, -1."
   ]
  },
  {
   "cell_type": "code",
   "execution_count": null,
   "metadata": {},
   "outputs": [],
   "source": [
    "#Example-\n",
    "\n",
    "Reverse the string \"Hello world\".\n",
    "\n",
    "txt = \"Hello World\"[: : -1]\n",
    "print(txt)"
   ]
  },
  {
   "cell_type": "markdown",
   "metadata": {},
   "source": [
    "# Q2- Write a code to count the number of vowels in a string\n",
    "\n",
    "Count the number of vowels in a string-"
   ]
  },
  {
   "cell_type": "code",
   "execution_count": null,
   "metadata": {},
   "outputs": [],
   "source": [
    "#take user input\n",
    "String = input(\"Enter the string :\")\n",
    "count = 0 \n",
    "#to check for less conditions\n",
    "#keep string in lowercase \n",
    "String = String.lower()\n",
    "for i in string:\n",
    "    if i == \"a\" or 1 == \"e\" or i == \"i\" or i ==\"0\" or i == \"u\":\n",
    "        #if true\n",
    "        count+= 1\n",
    "        #check if any vowel found \n",
    "        if count ==0:\n",
    "            print(\"No vowel found\")\n",
    "            else:\n",
    "                print(\"Total vowels are : + str(count)\")\n",
    "\n",
    "                #output\n",
    "\n",
    "                Enter the string :PrepInsta\n",
    "                Total vowels are :3\n",
    "    "
   ]
  },
  {
   "cell_type": "markdown",
   "metadata": {},
   "source": [
    "# Q3- Write a code to check if a given string in a palindrome or not.\n",
    "\n",
    "A palindrome is a word or a sentence that reads the same wheather read from left to right or right to left. The palindrome Pyhton program will check wheather the string tht is entered by the user is the same when read foeward or backwards."
   ]
  },
  {
   "cell_type": "code",
   "execution_count": null,
   "metadata": {},
   "outputs": [],
   "source": [
    "str_1 = input (\"Enter the string to check if it is a palindrome: \")\n",
    "\n",
    "str_1 = str_1 .casefold ()\n",
    "\n",
    "rev_str = reversed (str_1)\n",
    "\n",
    "if (list str_1) == list (rev_str):\n",
    "\n",
    "    print(\"The string is a palindrome.\")\n",
    "\n",
    "    else:\n",
    "\n",
    "        print(\"The string is not a palindrome.\")\n"
   ]
  },
  {
   "cell_type": "markdown",
   "metadata": {},
   "source": [
    "#Q4- write a code to check if two given strings are anagrams of each other.\n",
    "\n",
    "Here’s a Python code snippet that performs these steps:-"
   ]
  },
  {
   "cell_type": "code",
   "execution_count": null,
   "metadata": {},
   "outputs": [],
   "source": [
    "def are_anagrams(str1, str2):\n",
    "    # Remove spaces and convert to lowercase\n",
    "    str1 = str1.replace(\" \", \"\").lower()\n",
    "    str2 = str2.replace(\" \", \"\").lower()\n",
    "    \n",
    "    # Check if sorted characters of both strings are the same\n",
    "    return sorted(str1) == sorted(str2)\n",
    "\n",
    "# Example usage:\n",
    "string1 = \"listen\"\n",
    "string2 = \"silent\"\n",
    "\n",
    "if are_anagrams(string1, string2):\n",
    "    print(f'\"{string1}\" and \"{string2}\" are anagrams.')\n",
    "else:\n",
    "    print(f'\"{string1}\" and \"{string2}\" are not anagrams.')\n"
   ]
  },
  {
   "cell_type": "markdown",
   "metadata": {},
   "source": [
    "# Q5- Write a code to find all occurances of a given upstring within another string.\n",
    "\n",
    "To find all occurrences of a substring within another string, you can use Python's built-in string methods and a loop to track all positions where the substring occurs. Here's a Python code snippet to achieve that:"
   ]
  },
  {
   "cell_type": "code",
   "execution_count": null,
   "metadata": {},
   "outputs": [],
   "source": [
    "def find_occurrences(haystack, needle):\n",
    "    # Initialize a list to store the positions of occurrences\n",
    "    positions = []\n",
    "    \n",
    "    # Start from the beginning of the haystack string\n",
    "    start = 0\n",
    "    \n",
    "    # Loop to find all occurrences of the needle\n",
    "    while True:\n",
    "        # Find the start position of the needle in the haystack, starting from 'start'\n",
    "        start = haystack.find(needle, start)\n",
    "        \n",
    "        # If find() returns -1, no more occurrences are found\n",
    "        if start == -1:\n",
    "            break\n",
    "        \n",
    "        # Append the current position to the list of positions\n",
    "        positions.append(start)\n",
    "        \n",
    "        # Move start position to the next character for subsequent searches\n",
    "        start += len(needle)\n",
    "    \n",
    "    return positions\n",
    "\n",
    "# Example usage:\n",
    "haystack = \"this is a simple test. This test is just a test.\"\n",
    "needle = \"test\"\n",
    "\n",
    "occurrences = find_occurrences(haystack, needle)\n",
    "print(f\"Occurrences of '{needle}' in the given string are at positions: {occurrences}\")\n"
   ]
  },
  {
   "cell_type": "markdown",
   "metadata": {},
   "source": [
    "# Q6- Write a code to perform basic string compression using the counts of repeated characters.\n",
    "\n",
    "String compression involves reducing the length of a string by replacing consecutive repeated characters with the character followed by its count. For instance, the string \"aabcccccaaa\" would be compressed to \"a2b1c5a3\".\n",
    "\n",
    "Here's a Python code snippet to perform basic string compression:"
   ]
  },
  {
   "cell_type": "code",
   "execution_count": null,
   "metadata": {},
   "outputs": [],
   "source": [
    "def compress_string(s):\n",
    "    # Initialize the compressed string and count\n",
    "    compressed = []\n",
    "    count = 1\n",
    "    \n",
    "    # Iterate over the string\n",
    "    for i in range(1, len(s)):\n",
    "        # If the current character is the same as the previous one, increment the count\n",
    "        if s[i] == s[i - 1]:\n",
    "            count += 1\n",
    "        else:\n",
    "            # Otherwise, append the previous character and its count to the compressed list\n",
    "            compressed.append(s[i - 1] + str(count))\n",
    "            count = 1  # Reset the count for the new character\n",
    "    \n",
    "    # Append the last character and its count\n",
    "    compressed.append(s[-1] + str(count))\n",
    "    \n",
    "    # Join the list into a single string\n",
    "    compressed_string = ''.join(compressed)\n",
    "    \n",
    "    # Return the compressed string only if it is shorter than the original string\n",
    "    return compressed_string if len(compressed_string) < len(s) else s\n",
    "\n",
    "# Example usage:\n",
    "original_string = \"aabcccccaaa\"\n",
    "compressed_string = compress_string(original_string)\n",
    "print(f\"Original string: {original_string}\")\n",
    "print(f\"Compressed string: {compressed_string}\")\n"
   ]
  },
  {
   "cell_type": "markdown",
   "metadata": {},
   "source": [
    "# Q7- Write a code to determine if a string has all unique characters.\n",
    "\n",
    "\n",
    " To determine if a string has all unique characters, you can use different approaches depending on the constraints and requirements. Here are two common methods: one using a set and another using a boolean list.\n"
   ]
  },
  {
   "cell_type": "code",
   "execution_count": null,
   "metadata": {},
   "outputs": [],
   "source": [
    "def has_unique_characters(s):\n",
    "    # Create an empty set to store characters\n",
    "    char_set = set()\n",
    "    \n",
    "    # Iterate over each character in the string\n",
    "    for char in s:\n",
    "        # If the character is already in the set, return False\n",
    "        if char in char_set:\n",
    "            return False\n",
    "        # Otherwise, add the character to the set\n",
    "        char_set.add(char)\n",
    "    \n",
    "    # If no duplicates were found, return True\n",
    "    return True\n",
    "\n",
    "# Example usage:\n",
    "string = \"abcdef\"\n",
    "print(f\"Does the string '{string}' have all unique characters? {has_unique_characters(string)}\")\n"
   ]
  },
  {
   "cell_type": "markdown",
   "metadata": {},
   "source": [
    "# Q8- Write a code to convert a given string to uppercase or lowercase.\n",
    "\n",
    "Convert to Uppercase\n",
    "To convert a string to uppercase, use the upper() method.\n"
   ]
  },
  {
   "cell_type": "code",
   "execution_count": null,
   "metadata": {},
   "outputs": [],
   "source": [
    "def convert_to_uppercase(s):\n",
    "    return s.upper()\n",
    "\n",
    "# Example usage:\n",
    "string = \"Hello, World!\"\n",
    "uppercase_string = convert_to_uppercase(string)\n",
    "print(f\"Original string: {string}\")\n",
    "print(f\"Uppercase string: {uppercase_string}\")\n"
   ]
  },
  {
   "cell_type": "markdown",
   "metadata": {},
   "source": [
    "Convert to Lowercase\n",
    "To convert a string to lowercase, use the lower() method."
   ]
  },
  {
   "cell_type": "code",
   "execution_count": null,
   "metadata": {},
   "outputs": [],
   "source": [
    "def convert_to_lowercase(s):\n",
    "    return s.lower()\n",
    "\n",
    "# Example usage:\n",
    "string = \"Hello, World!\"\n",
    "lowercase_string = convert_to_lowercase(string)\n",
    "print(f\"Original string: {string}\")\n",
    "print(f\"Lowercase string: {lowercase_string}\")\n"
   ]
  },
  {
   "cell_type": "markdown",
   "metadata": {},
   "source": [
    "# Q9- Write a code to count the number of words in a string.\n",
    "\n",
    "\n",
    "To count the number of words in a string, you can use Python's string methods to split the string into words and then count the number of elements in the resulting list. The split() method is particularly useful here because it divides the string based on whitespace by default, which effectively separates the words.\n",
    "\n"
   ]
  },
  {
   "cell_type": "code",
   "execution_count": null,
   "metadata": {},
   "outputs": [],
   "source": [
    "def count_words(s):\n",
    "    # Split the string into words using whitespace as the delimiter\n",
    "    words = s.split()\n",
    "    \n",
    "    # Return the number of words\n",
    "    return len(words)\n",
    "\n",
    "# Example usage:\n",
    "string = \"Hello, how are you doing today?\"\n",
    "word_count = count_words(string)\n",
    "print(f\"The number of words in the string is: {word_count}\")\n"
   ]
  },
  {
   "cell_type": "markdown",
   "metadata": {},
   "source": [
    "# Q10- Write a code to concatenate two strings without using the +operator.\n",
    "\n",
    "To concatenate two strings without using the + operator, you can use several alternative methods in Python. Here are a few approaches:\n"
   ]
  },
  {
   "cell_type": "code",
   "execution_count": null,
   "metadata": {},
   "outputs": [],
   "source": [
    "def concatenate_strings(s1, s2):\n",
    "    return ''.join([s1, s2])\n",
    "\n",
    "# Example usage:\n",
    "string1 = \"Hello\"\n",
    "string2 = \"World\"\n",
    "result = concatenate_strings(string1, string2)\n",
    "print(f\"Concatenated string: {result}\")\n"
   ]
  },
  {
   "cell_type": "markdown",
   "metadata": {},
   "source": [
    "# Q11- Write a code to remove all occurances of a specific element from a list.\n",
    "\n",
    "To remove all occurrences of a specific element from a list in Python, you can use a list comprehension or the remove() method in a loop. Here are two common methods:\n"
   ]
  },
  {
   "cell_type": "code",
   "execution_count": null,
   "metadata": {},
   "outputs": [],
   "source": [
    "def remove_occurrences(lst, element):\n",
    "    # Create a new list excluding all occurrences of 'element'\n",
    "    return [item for item in lst if item != element]\n",
    "\n",
    "# Example usage:\n",
    "original_list = [1, 2, 3, 4, 2, 5, 2]\n",
    "element_to_remove = 2\n",
    "new_list = remove_occurrences(original_list, element_to_remove)\n",
    "print(f\"Original list: {original_list}\")\n",
    "print(f\"List after removing {element_to_remove}: {new_list}\")\n"
   ]
  },
  {
   "cell_type": "markdown",
   "metadata": {},
   "source": [
    "# Q12- Impelement a code to find the second largest number in a given list of numbers.\n",
    "\n",
    "To find the second largest number in a list, you can use several methods. Here are two efficient approaches: one using a single pass through the list and another using sorting.\n",
    "\n"
   ]
  },
  {
   "cell_type": "code",
   "execution_count": null,
   "metadata": {},
   "outputs": [],
   "source": [
    "def find_second_largest(numbers):\n",
    "    if len(numbers) < 2:\n",
    "        raise ValueError(\"List must contain at least two numbers\")\n",
    "    \n",
    "    # Initialize the largest and second largest to negative infinity\n",
    "    largest = second_largest = float('-inf')\n",
    "    \n",
    "    for num in numbers:\n",
    "        if num > largest:\n",
    "            # Update both largest and second largest\n",
    "            second_largest = largest\n",
    "            largest = num\n",
    "        elif num > second_largest and num != largest:\n",
    "            # Update second largest if the number is not equal to largest\n",
    "            second_largest = num\n",
    "    \n",
    "    # If second largest is still negative infinity, it means there were no distinct second largest values\n",
    "    if second_largest == float('-inf'):\n",
    "        raise ValueError(\"No second largest number found\")\n",
    "    \n",
    "    return second_largest\n",
    "\n",
    "# Example usage:\n",
    "numbers = [10, 20, 4, 45, 99, 45]\n",
    "second_largest = find_second_largest(numbers)\n",
    "print(f\"The second largest number is: {second_largest}\")\n"
   ]
  },
  {
   "cell_type": "markdown",
   "metadata": {},
   "source": [
    "# Q13- Create a code to count a occurances of each element in a list and return a dictionary with element as keys and their counts and values.\n",
    "\n"
   ]
  },
  {
   "cell_type": "code",
   "execution_count": null,
   "metadata": {},
   "outputs": [],
   "source": [
    "def count_occurrences(lst):\n",
    "    # Initialize an empty dictionary to store the counts\n",
    "    counts = {}\n",
    "    \n",
    "    # Iterate over each element in the list\n",
    "    for element in lst:\n",
    "        if element in counts:\n",
    "            # Increment the count if the element is already in the dictionary\n",
    "            counts[element] += 1\n",
    "        else:\n",
    "            # Add the element to the dictionary with a count of 1\n",
    "            counts[element] = 1\n",
    "    \n",
    "    return counts\n",
    "\n",
    "# Example usage:\n",
    "numbers = [1, 2, 2, 3, 3, 3, 4, 4, 4, 4]\n",
    "occurrences = count_occurrences(numbers)\n",
    "print(f\"Occurrences: {occurrences}\")\n"
   ]
  },
  {
   "cell_type": "markdown",
   "metadata": {},
   "source": [
    "# Q14- Write a code to reverse a list in place without using any built-in reverse fuctions.\n"
   ]
  },
  {
   "cell_type": "code",
   "execution_count": null,
   "metadata": {},
   "outputs": [],
   "source": [
    "def reverse_list_in_place(lst):\n",
    "    left = 0\n",
    "    right = len(lst) - 1\n",
    "    \n",
    "    while left < right:\n",
    "        # Swap the elements at the left and right indices\n",
    "        lst[left], lst[right] = lst[right], lst[left]\n",
    "        \n",
    "        # Move the pointers towards the center\n",
    "        left += 1\n",
    "        right -= 1\n",
    "\n",
    "# Example usage:\n",
    "my_list = [1, 2, 3, 4, 5]\n",
    "reverse_list_in_place(my_list)\n",
    "print(f\"Reversed list: {my_list}\")\n"
   ]
  },
  {
   "cell_type": "markdown",
   "metadata": {},
   "source": [
    "# Q15- Implement a code to find and remove duplicates from a list while preserving the original order of elements."
   ]
  },
  {
   "cell_type": "code",
   "execution_count": null,
   "metadata": {},
   "outputs": [],
   "source": [
    "def remove_duplicates(lst):\n",
    "    seen = set()  # Set to track seen elements\n",
    "    result = []   # List to store the result with duplicates removed\n",
    "    \n",
    "    for item in lst:\n",
    "        if item not in seen:\n",
    "            result.append(item)  # Add the item to result if it hasn't been seen before\n",
    "            seen.add(item)       # Add the item to the set of seen elements\n",
    "    \n",
    "    return result\n",
    "\n",
    "# Example usage:\n",
    "original_list = [1, 2, 3, 2, 4, 5, 1, 6]\n",
    "unique_list = remove_duplicates(original_list)\n",
    "print(f\"Original list: {original_list}\")\n",
    "print(f\"List after removing duplicates: {unique_list}\")\n"
   ]
  },
  {
   "cell_type": "markdown",
   "metadata": {},
   "source": [
    "# Q16- Create a code to check if a given list sorted (either in ascending or descending order) or not.\n"
   ]
  },
  {
   "cell_type": "code",
   "execution_count": null,
   "metadata": {},
   "outputs": [],
   "source": [
    "def is_sorted(lst):\n",
    "    # Check if list is sorted in ascending order\n",
    "    ascending = all(lst[i] <= lst[i + 1] for i in range(len(lst) - 1))\n",
    "    \n",
    "    # Check if list is sorted in descending order\n",
    "    descending = all(lst[i] >= lst[i + 1] for i in range(len(lst) - 1))\n",
    "    \n",
    "    return ascending or descending\n",
    "\n",
    "# Test cases\n",
    "print(is_sorted([1, 2, 3, 4, 5]))    # True (ascending)\n",
    "print(is_sorted([5, 4, 3, 2, 1]))    # True (descending)\n",
    "print(is_sorted([1, 3, 2, 4, 5]))    # False (neither)\n"
   ]
  },
  {
   "cell_type": "markdown",
   "metadata": {},
   "source": [
    "# Q17- Write a code to merge two sorted lists into a single sorted list."
   ]
  },
  {
   "cell_type": "code",
   "execution_count": null,
   "metadata": {},
   "outputs": [],
   "source": [
    "def merge_sorted_lists(list1, list2):\n",
    "    # Initialize pointers for both lists\n",
    "    i, j = 0, 0\n",
    "    merged_list = []\n",
    "\n",
    "    # Traverse both lists and append smaller element to the merged list\n",
    "    while i < len(list1) and j < len(list2):\n",
    "        if list1[i] <= list2[j]:\n",
    "            merged_list.append(list1[i])\n",
    "            i += 1\n",
    "        else:\n",
    "            merged_list.append(list2[j])\n",
    "            j += 1\n",
    "\n",
    "    # If there are remaining elements in list1, append them\n",
    "    while i < len(list1):\n",
    "        merged_list.append(list1[i])\n",
    "        i += 1\n",
    "\n",
    "    # If there are remaining elements in list2, append them\n",
    "    while j < len(list2):\n",
    "        merged_list.append(list2[j])\n",
    "        j += 1\n",
    "\n",
    "    return merged_list\n",
    "\n",
    "# Test cases\n",
    "list1 = [1, 3, 5, 7]\n",
    "list2 = [2, 4, 6, 8]\n",
    "\n",
    "print(merge_sorted_lists(list1, list2))  # Output: [1, 2, 3, 4, 5, 6, 7, 8]\n"
   ]
  },
  {
   "cell_type": "markdown",
   "metadata": {},
   "source": [
    "# Q18- Implement a code to find the intersection of two given lists."
   ]
  },
  {
   "cell_type": "code",
   "execution_count": null,
   "metadata": {},
   "outputs": [],
   "source": [
    "def intersect_lists(list1, list2):\n",
    "    # Convert the lists to sets to remove duplicates and enable efficient lookups\n",
    "    set1 = set(list1)\n",
    "    set2 = set(list2)\n",
    "    \n",
    "    # Find the intersection of both sets\n",
    "    intersection = set1 & set2\n",
    "    \n",
    "    # Convert the intersection set back to a list if needed\n",
    "    return list(intersection)\n",
    "\n",
    "# Test cases\n",
    "list1 = [1, 2, 3, 4, 5]\n",
    "list2 = [4, 5, 6, 7, 8]\n",
    "\n",
    "print(intersect_lists(list1, list2))  # Output: [4, 5]\n"
   ]
  },
  {
   "cell_type": "markdown",
   "metadata": {},
   "source": [
    "# Q19- Create a code to find a union of two lists without duplicates."
   ]
  },
  {
   "cell_type": "code",
   "execution_count": null,
   "metadata": {},
   "outputs": [],
   "source": [
    "def union_lists(list1, list2):\n",
    "    # Convert the lists to sets to remove duplicates and perform union operation\n",
    "    set1 = set(list1)\n",
    "    set2 = set(list2)\n",
    "    \n",
    "    # Find the union of both sets\n",
    "    union = set1 | set2\n",
    "    \n",
    "    # Convert the union set back to a list if needed\n",
    "    return list(union)\n",
    "\n",
    "# Test cases\n",
    "list1 = [1, 2, 3, 4, 5]\n",
    "list2 = [4, 5, 6, 7, 8]\n",
    "\n",
    "print(union_lists(list1, list2))  # Output: [1, 2, 3, 4, 5, 6, 7, 8]\n"
   ]
  },
  {
   "cell_type": "markdown",
   "metadata": {},
   "source": [
    "# Q20- Write a code to shuffle a given list randomly without using any built-in shuffle fuctions."
   ]
  },
  {
   "cell_type": "code",
   "execution_count": null,
   "metadata": {},
   "outputs": [],
   "source": [
    "import random\n",
    "\n",
    "def shuffle_list(lst):\n",
    "    # Make a copy of the list to avoid modifying the original list\n",
    "    lst_copy = lst[:]\n",
    "    \n",
    "    # Fisher-Yates shuffle algorithm\n",
    "    n = len(lst_copy)\n",
    "    for i in range(n - 1, 0, -1):\n",
    "        # Generate a random index from 0 to i\n",
    "        j = random.randint(0, i)\n",
    "        \n",
    "        # Swap elements at indices i and j\n",
    "        lst_copy[i], lst_copy[j] = lst_copy[j], lst_copy[i]\n",
    "    \n",
    "    return lst_copy\n",
    "\n",
    "# Test cases\n",
    "original_list = [1, 2, 3, 4, 5]\n",
    "shuffled_list = shuffle_list(original_list)\n",
    "\n",
    "print(\"Original list:\", original_list)\n",
    "print(\"Shuffled list:\", shuffled_list)\n"
   ]
  },
  {
   "cell_type": "markdown",
   "metadata": {},
   "source": [
    "# Q21- Write a code that takes two tuples as input and return a new tuple containing elements that are common to both input tuples."
   ]
  },
  {
   "cell_type": "code",
   "execution_count": null,
   "metadata": {},
   "outputs": [],
   "source": [
    "def common_elements_tuple(tuple1, tuple2):\n",
    "    # Convert tuples to sets\n",
    "    set1 = set(tuple1)\n",
    "    set2 = set(tuple2)\n",
    "    \n",
    "    # Find intersection of the sets\n",
    "    common_elements = set1 & set2\n",
    "    \n",
    "    # Convert the result back to a tuple\n",
    "    return tuple(common_elements)\n",
    "\n",
    "# Test cases\n",
    "tuple1 = (1, 2, 3, 4, 5)\n",
    "tuple2 = (4, 5, 6, 7, 8)\n",
    "\n",
    "print(common_elements_tuple(tuple1, tuple2))  # Output: (4, 5)\n"
   ]
  },
  {
   "cell_type": "markdown",
   "metadata": {},
   "source": [
    "# Q22- Create a code that prompts the user to enter two sets of integers sperated by commas. then, print the intersections of these two sets."
   ]
  },
  {
   "cell_type": "code",
   "execution_count": null,
   "metadata": {},
   "outputs": [],
   "source": [
    "def get_set_from_input(prompt):\n",
    "    # Prompt the user and read input\n",
    "    user_input = input(prompt)\n",
    "    \n",
    "    # Convert the input string to a list of integers\n",
    "    try:\n",
    "        number_list = [int(x.strip()) for x in user_input.split(',')]\n",
    "    except ValueError:\n",
    "        print(\"Invalid input. Please enter integers separated by commas.\")\n",
    "        return None\n",
    "    \n",
    "    # Convert the list to a set\n",
    "    return set(number_list)\n",
    "\n",
    "def main():\n",
    "    # Get the two sets from user input\n",
    "    set1 = get_set_from_input(\"Enter the first set of integers separated by commas: \")\n",
    "    if set1 is None:\n",
    "        return\n",
    "\n",
    "    set2 = get_set_from_input(\"Enter the second set of integers separated by commas: \")\n",
    "    if set2 is None:\n",
    "        return\n",
    "\n",
    "    # Find the intersection of the two sets\n",
    "    intersection = set1 & set2\n",
    "\n",
    "    # Print the result\n",
    "    print(\"Intersection of the two sets:\", intersection)\n",
    "\n",
    "if __name__ == \"__main__\":\n",
    "    main()\n"
   ]
  },
  {
   "cell_type": "markdown",
   "metadata": {},
   "source": [
    "# Q23- Write a code to concatenate two tuples. The fuction should take two tuples as a input and return a new tuple containing elements from both input tuples."
   ]
  },
  {
   "cell_type": "code",
   "execution_count": null,
   "metadata": {},
   "outputs": [],
   "source": [
    "def concatenate_tuples(tuple1, tuple2):\n",
    "    # Concatenate the two tuples\n",
    "    result = tuple1 + tuple2\n",
    "    return result\n",
    "\n",
    "# Test cases\n",
    "tuple1 = (1, 2, 3)\n",
    "tuple2 = (4, 5, 6)\n",
    "\n",
    "print(concatenate_tuples(tuple1, tuple2))  # Output: (1, 2, 3, 4, 5, 6)"
   ]
  },
  {
   "cell_type": "markdown",
   "metadata": {},
   "source": [
    "# Q24- Develop a code that prompts the user to input two sets of strings. Then, print the element that are present in the first set but not in the second set."
   ]
  },
  {
   "cell_type": "code",
   "execution_count": null,
   "metadata": {},
   "outputs": [],
   "source": [
    "# Function to get a set of strings from user input\n",
    "def get_string_set(prompt):\n",
    "    user_input = input(prompt)\n",
    "    return set(user_input.split())\n",
    "\n",
    "# Get two sets of strings from the user\n",
    "set1 = get_string_set(\"Enter the first set of strings (separated by spaces): \")\n",
    "set2 = get_string_set(\"Enter the second set of strings (separated by spaces): \")\n",
    "\n",
    "# Find elements in set1 that are not in set2\n",
    "difference = set1 - set2\n",
    "\n",
    "# Print the result\n",
    "print(\"Elements in the first set but not in the second set:\", difference)"
   ]
  },
  {
   "cell_type": "markdown",
   "metadata": {},
   "source": [
    "How to Use the Code:\n",
    "Run the code in a Python environment.\n",
    "When prompted, enter the first set of strings separated by spaces.\n",
    "Next, enter the second set of strings separated by spaces.\n",
    "The program will display the elements that are in the first set but not in the second.\n",
    "Feel free to modify the prompts or the way you handle input as needed!"
   ]
  },
  {
   "cell_type": "markdown",
   "metadata": {},
   "source": [
    "# Q25- Create a code that makes a tuple of two integers as input. The function should return a new tuple containing elements from the original tuple within the specified range of indices."
   ]
  },
  {
   "cell_type": "markdown",
   "metadata": {},
   "source": [
    "def create_tuple():\n",
    "    # Get two integers from the user\n",
    "    first_integer = int(input(\"Enter the first integer: \"))\n",
    "    second_integer = int(input(\"Enter the second integer: \"))\n",
    "    \n",
    "    # Create a tuple from the integers\n",
    "    original_tuple = (first_integer, second_integer)\n",
    "    return original_tuple\n",
    "\n",
    "def extract_range_from_tuple(tup, start_index, end_index):\n",
    "    # Return a new tuple with elements in the specified range\n",
    "    return tup[start_index:end_index]\n",
    "\n",
    "# Create the original tuple\n",
    "original_tuple = create_tuple()\n",
    "\n",
    "# Get range of indices from the user\n",
    "start_index = int(input(\"Enter the start index (inclusive): \"))\n",
    "end_index = int(input(\"Enter the end index (exclusive): \"))\n",
    "\n",
    "# Extract elements within the specified range\n",
    "new_tuple = extract_range_from_tuple(original_tuple, start_index, end_index)\n",
    "\n",
    "# Print the original and new tuples\n",
    "print(\"Original tuple:\", original_tuple)\n",
    "print(\"New tuple:\", new_tuple)"
   ]
  },
  {
   "cell_type": "markdown",
   "metadata": {},
   "source": [
    "How to Use the Code:\n",
    "Run the code in a Python environment.\n",
    "Enter two integers when prompted.\n",
    "Input the start and end indices to specify the range you want.\n",
    "The program will display both the original tuple and the new tuple containing elements within the specified range."
   ]
  },
  {
   "cell_type": "markdown",
   "metadata": {},
   "source": [
    "# Q26- Write a code that prompts the user to input two sets of characters. Then, print the union of these two sets."
   ]
  },
  {
   "cell_type": "code",
   "execution_count": null,
   "metadata": {},
   "outputs": [],
   "source": [
    "# Function to get a set of characters from user input\n",
    "def get_character_set(prompt):\n",
    "    user_input = input(prompt)\n",
    "    return set(user_input)\n",
    "\n",
    "# Get two sets of characters from the user\n",
    "set1 = get_character_set(\"Enter the first set of characters: \")\n",
    "set2 = get_character_set(\"Enter the second set of characters: \")\n",
    "\n",
    "# Calculate the union of the two sets\n",
    "union_set = set1 | set2\n",
    "\n",
    "# Print the result\n",
    "print(\"Union of the two sets:\", union_set)"
   ]
  },
  {
   "cell_type": "markdown",
   "metadata": {},
   "source": [
    "How to Use the Code:\n",
    "Run the code in a Python environment.\n",
    "When prompted, enter the first set of characters (you can enter them as a string).\n",
    "Next, enter the second set of characters.\n",
    "The program will display the union of the two sets.\n",
    "You can modify the prompts or the way input is handled to better suit your needs!"
   ]
  },
  {
   "cell_type": "markdown",
   "metadata": {},
   "source": [
    "# Q27- Develop a code that makes a tuple of integers as a input. The function should return the maximum and minimum values from the tuple using tuple unpacking."
   ]
  },
  {
   "cell_type": "code",
   "execution_count": null,
   "metadata": {},
   "outputs": [],
   "source": [
    "def create_integer_tuple():\n",
    "    # Get input from the user and convert it to a tuple of integers\n",
    "    user_input = input(\"Enter integers separated by spaces: \")\n",
    "    integer_tuple = tuple(map(int, user_input.split()))\n",
    "    return integer_tuple\n",
    "\n",
    "def get_max_min_from_tuple(tup):\n",
    "    # Get the maximum and minimum values using max() and min()\n",
    "    max_value = max(tup)\n",
    "    min_value = min(tup)\n",
    "    return max_value, min_value  # Return as a tuple\n",
    "\n",
    "# Create the integer tuple\n",
    "integer_tuple = create_integer_tuple()\n",
    "\n",
    "# Get the max and min values from the tuple\n",
    "max_value, min_value = get_max_min_from_tuple(integer_tuple)\n",
    "\n",
    "# Print the results\n",
    "print(\"Original tuple:\", integer_tuple)\n",
    "print(\"Maximum value:\", max_value)\n",
    "print(\"Minimum value:\", min_value)"
   ]
  },
  {
   "cell_type": "markdown",
   "metadata": {},
   "source": [
    "How to Use the Code:\n",
    "Run the code in a Python environment.\n",
    "When prompted, enter integers separated by spaces.\n",
    "The program will display the original tuple, the maximum value, and the minimum value using tuple unpacking.\n",
    "Feel free to modify the prompts or functionality as needed!"
   ]
  },
  {
   "cell_type": "markdown",
   "metadata": {},
   "source": [
    "# Q28- Write a code that defines two sets of integers. Then, print the union, intersection, and difference of these two sets."
   ]
  },
  {
   "cell_type": "code",
   "execution_count": null,
   "metadata": {},
   "outputs": [],
   "source": [
    "# Define two sets of integers\n",
    "set1 = {1, 2, 3, 4, 5}\n",
    "set2 = {4, 5, 6, 7, 8}\n",
    "\n",
    "# Calculate union, intersection, and difference\n",
    "union_set = set1 | set2\n",
    "intersection_set = set1 & set2\n",
    "difference_set = set1 - set2\n",
    "\n",
    "# Print the results\n",
    "print(\"Set 1:\", set1)\n",
    "print(\"Set 2:\", set2)\n",
    "print(\"Union of the two sets:\", union_set)\n",
    "print(\"Intersection of the two sets:\", intersection_set)\n",
    "print(\"Difference of Set 1 and Set 2:\", difference_set)"
   ]
  },
  {
   "cell_type": "markdown",
   "metadata": {},
   "source": [
    "Output Explanation:\n",
    "Union: Combines all elements from both sets, with duplicates removed.\n",
    "Intersection: Contains only the elements that are present in both sets.\n",
    "Difference: Contains elements that are in the first set but not in the second.\n",
    "You can change the elements in set1 and set2 as needed to test different cases!"
   ]
  },
  {
   "cell_type": "markdown",
   "metadata": {},
   "source": [
    "# Q29- Write a code that takes a tuple and an element as a input. THe function should return the count of occurences of the given element in the tuple."
   ]
  },
  {
   "cell_type": "code",
   "execution_count": null,
   "metadata": {},
   "outputs": [],
   "source": [
    "def count_occurrences(input_tuple, element):\n",
    "    # Count and return the occurrences of the element in the tuple\n",
    "    return input_tuple.count(element)\n",
    "\n",
    "# Get input from the user\n",
    "user_input = input(\"Enter elements for the tuple (separated by spaces): \")\n",
    "input_tuple = tuple(user_input.split())\n",
    "\n",
    "element = input(\"Enter the element to count in the tuple: \")\n",
    "\n",
    "# Count occurrences of the element in the tuple\n",
    "count = count_occurrences(input_tuple, element)\n",
    "\n",
    "# Print the result\n",
    "print(f\"The element '{element}' occurs {count} time(s) in the tuple {input_tuple}.\")"
   ]
  },
  {
   "cell_type": "markdown",
   "metadata": {},
   "source": [
    "How to Use the Code:\n",
    "Run the code in a Python environment.\n",
    "Enter the elements for the tuple separated by spaces when prompted.\n",
    "Enter the element you want to count.\n",
    "The program will display the number of times that element occurs in the tuple.\n",
    "Feel free to modify the prompts or functionality as needed!"
   ]
  },
  {
   "cell_type": "markdown",
   "metadata": {},
   "source": [
    "# Q30- Develop a code that prompts the user to input two sets of strings. Then, print the symmetric difference of these two sets."
   ]
  },
  {
   "cell_type": "code",
   "execution_count": null,
   "metadata": {},
   "outputs": [],
   "source": [
    "# Function to get a set of strings from user input\n",
    "def get_string_set(prompt):\n",
    "    user_input = input(prompt)\n",
    "    return set(user_input.split())\n",
    "\n",
    "# Get two sets of strings from the user\n",
    "set1 = get_string_set(\"Enter the first set of strings (separated by spaces): \")\n",
    "set2 = get_string_set(\"Enter the second set of strings (separated by spaces): \")\n",
    "\n",
    "# Calculate the symmetric difference\n",
    "symmetric_difference = set1.symmetric_difference(set2)\n",
    "\n",
    "# Print the result\n",
    "print(\"Symmetric difference of the two sets:\", symmetric_difference)"
   ]
  },
  {
   "cell_type": "markdown",
   "metadata": {},
   "source": [
    "How to Use the Code:\n",
    "Run the code in a Python environment.\n",
    "When prompted, enter the first set of strings separated by spaces.\n",
    "Next, enter the second set of strings.\n",
    "The program will display the symmetric difference, which includes elements that are in either of the sets but not in both.\n",
    "Feel free to modify the prompts or functionality as needed!"
   ]
  },
  {
   "cell_type": "markdown",
   "metadata": {},
   "source": [
    "# Q31- Write a code that takes a list of words as input and returns a dictionary where the keys are unique words and the values are the frquencies of those words in the input list."
   ]
  },
  {
   "cell_type": "code",
   "execution_count": null,
   "metadata": {},
   "outputs": [],
   "source": [
    "def word_frequencies(words):\n",
    "    frequency_dict = {}\n",
    "    for word in words:\n",
    "        if word in frequency_dict:\n",
    "            frequency_dict[word] += 1\n",
    "        else:\n",
    "            frequency_dict[word] = 1\n",
    "    return frequency_dict\n",
    "\n",
    "# Example usage:\n",
    "input_words = [\"apple\", \"banana\", \"apple\", \"orange\", \"banana\", \"apple\"]\n",
    "result = word_frequencies(input_words)\n",
    "print(result)"
   ]
  },
  {
   "cell_type": "markdown",
   "metadata": {},
   "source": [
    "Explanation:\n",
    "Function Definition: word_frequencies takes a list of words as input.\n",
    "Dictionary Initialization: frequency_dict is initialized to keep track of word counts.\n",
    "Loop Through Words: For each word in the input list, it checks if the word is already a key in the dictionary:\n",
    "If it is, the count is incremented.\n",
    "If it isn’t, it adds the word with a count of 1.\n",
    "Return the Dictionary: Finally, the function returns the dictionary with the word frequencies.\n",
    "\n",
    "Example Output:\n",
    "For the input [\"apple\", \"banana\", \"apple\", \"orange\", \"banana\", \"apple\"], the output will be:"
   ]
  },
  {
   "cell_type": "code",
   "execution_count": null,
   "metadata": {},
   "outputs": [],
   "source": [
    "{'apple': 3, 'banana': 2, 'orange': 1}"
   ]
  },
  {
   "cell_type": "markdown",
   "metadata": {},
   "source": [
    "# Q32- Write a code that takes two dictinaries as a input merges them into a single dictionary. If there are common keys, the value should be added together."
   ]
  },
  {
   "cell_type": "code",
   "execution_count": null,
   "metadata": {},
   "outputs": [],
   "source": [
    "def merge_dictionaries(dict1, dict2):\n",
    "    merged_dict = dict1.copy()  # Create a copy of the first dictionary\n",
    "\n",
    "    for key, value in dict2.items():\n",
    "        if key in merged_dict:\n",
    "            merged_dict[key] += value  # Add the values if the key exists\n",
    "        else:\n",
    "            merged_dict[key] = value  # Otherwise, just add the key-value pair\n",
    "\n",
    "    return merged_dict\n",
    "\n",
    "# Example usage:\n",
    "dict_a = {'apple': 2, 'banana': 3}\n",
    "dict_b = {'banana': 2, 'orange': 5}\n",
    "\n",
    "result = merge_dictionaries(dict_a, dict_b)\n",
    "print(result)"
   ]
  },
  {
   "cell_type": "markdown",
   "metadata": {},
   "source": [
    "Explanation:\n",
    "Function Definition: merge_dictionaries takes two dictionaries as input.\n",
    "Copy First Dictionary: A copy of the first dictionary (dict1) is created to avoid modifying it directly.\n",
    "Loop Through Second Dictionary: The code iterates through each key-value pair in the second dictionary (dict2):\n",
    "If the key exists in the merged dictionary, it adds the value.\n",
    "If the key does not exist, it adds the key-value pair to the merged dictionary.\n",
    "Return the Merged Dictionary: Finally, the merged dictionary is returned.\n",
    "\n",
    "Example Output:\n",
    "For the input dictionaries:"
   ]
  },
  {
   "cell_type": "code",
   "execution_count": null,
   "metadata": {},
   "outputs": [],
   "source": [
    "dict_a = {'apple': 2, 'banana': 3}\n",
    "dict_b = {'banana': 2, 'orange': 5}"
   ]
  },
  {
   "cell_type": "markdown",
   "metadata": {},
   "source": [
    "The output will be:"
   ]
  },
  {
   "cell_type": "code",
   "execution_count": null,
   "metadata": {},
   "outputs": [],
   "source": [
    "{'apple': 2, 'banana': 5, 'orange': 5}"
   ]
  },
  {
   "cell_type": "markdown",
   "metadata": {},
   "source": [
    "# Q33- Write a code to access a value in a nested dictionary. The fuction should take the dictionary and a list of keys as input, and return the crossponding value. If any of the key do not exist in dictionary, the function should return none."
   ]
  },
  {
   "cell_type": "code",
   "execution_count": null,
   "metadata": {},
   "outputs": [],
   "source": [
    "def get_nested_value(nested_dict, keys):\n",
    "    current_value = nested_dict\n",
    "    for key in keys:\n",
    "        if key in current_value:\n",
    "            current_value = current_value[key]\n",
    "        else:\n",
    "            return None  # Return None if any key does not exist\n",
    "    return current_value\n",
    "\n",
    "# Example usage:\n",
    "nested_dictionary = {\n",
    "    'a': {\n",
    "        'b': {\n",
    "            'c': 42\n",
    "        }\n",
    "    },\n",
    "    'x': {\n",
    "        'y': 'hello'\n",
    "    }\n",
    "}\n",
    "\n",
    "keys_to_access = ['a', 'b', 'c']\n",
    "result = get_nested_value(nested_dictionary, keys_to_access)\n",
    "print(result)  # Output: 42\n",
    "\n",
    "keys_to_access_invalid = ['a', 'b', 'd']\n",
    "result_invalid = get_nested_value(nested_dictionary, keys_to_access_invalid)\n",
    "print(result_invalid)  # Output: None"
   ]
  },
  {
   "cell_type": "markdown",
   "metadata": {},
   "source": [
    "Explanation:\n",
    "Function Definition: get_nested_value takes a nested dictionary and a list of keys as inputs.\n",
    "Initialization: current_value is initialized to the nested dictionary.\n",
    "Loop Through Keys: The function iterates through each key in the list:\n",
    "If the key exists in current_value, it updates current_value to the corresponding value.\n",
    "If any key does not exist, it returns None.\n",
    "Return the Final Value: If all keys are found, it returns the final value.\n",
    "\n",
    "Example Outputs:\n",
    "For the keys ['a', 'b', 'c'], the output will be 42.\n",
    "For the keys ['a', 'b', 'd'], the output will be None."
   ]
  },
  {
   "cell_type": "markdown",
   "metadata": {},
   "source": [
    "# Q34- Write a code that a dictionary as a input and returns a sorted version of it based on the values. You can choose wheather to sort an ascending or decending order."
   ]
  },
  {
   "cell_type": "code",
   "execution_count": null,
   "metadata": {},
   "outputs": [],
   "source": [
    "def sort_dict_by_value(input_dict, ascending=True):\n",
    "    sorted_dict = dict(sorted(input_dict.items(), key=lambda item: item[1], reverse=not ascending))\n",
    "    return sorted_dict\n",
    "\n",
    "# Example usage:\n",
    "example_dict = {'apple': 2, 'banana': 3, 'orange': 1, 'grape': 5}\n",
    "\n",
    "# Sort in ascending order\n",
    "sorted_ascending = sort_dict_by_value(example_dict, ascending=True)\n",
    "print(\"Sorted in ascending order:\", sorted_ascending)\n",
    "\n",
    "# Sort in descending order\n",
    "sorted_descending = sort_dict_by_value(example_dict, ascending=False)\n",
    "print(\"Sorted in descending order:\", sorted_descending)"
   ]
  },
  {
   "cell_type": "markdown",
   "metadata": {},
   "source": [
    "Explanation:\n",
    "Function Definition: sort_dict_by_value takes a dictionary and a boolean ascending (default is True) to determine the sort order.\n",
    "Sorting: The sorted() function is used:\n",
    "input_dict.items() provides the key-value pairs.\n",
    "key=lambda item: item[1] sorts based on the values.\n",
    "reverse=not ascending allows for toggling between ascending and descending order.\n",
    "Return the Sorted Dictionary: The sorted items are converted back to a dictionary and returned.\n",
    "\n",
    "Example Outputs:\n",
    "For the input dictionary {'apple': 2, 'banana': 3, 'orange': 1, 'grape': 5}:\n",
    "\n",
    "In ascending order, the output will be:"
   ]
  },
  {
   "cell_type": "code",
   "execution_count": null,
   "metadata": {},
   "outputs": [],
   "source": [
    "{'orange': 1, 'apple': 2, 'banana': 3, 'grape': 5}\n",
    "\n",
    "In descending order, the output will be\n",
    "\n",
    "{'grape': 5, 'banana': 3, 'apple': 2, 'orange': 1}"
   ]
  },
  {
   "cell_type": "markdown",
   "metadata": {},
   "source": [
    "# Q35- Write a code that inverts a dictionary, swapping the keys and values. Ensure that the inverted dictionary correctly handles cases where multiple keys have the same value by sorting the keys as a list in the inverted dictionary."
   ]
  },
  {
   "cell_type": "code",
   "execution_count": null,
   "metadata": {},
   "outputs": [],
   "source": [
    "def invert_dictionary(input_dict):\n",
    "    inverted_dict = {}\n",
    "    for key, value in input_dict.items():\n",
    "        if value in inverted_dict:\n",
    "            inverted_dict[value].append(key)  # Append the key to the existing list\n",
    "        else:\n",
    "            inverted_dict[value] = [key]  # Create a new list with the key\n",
    "    return inverted_dict\n",
    "\n",
    "# Example usage:\n",
    "example_dict = {'apple': 2, 'banana': 3, 'orange': 2, 'grape': 5}\n",
    "\n",
    "inverted = invert_dictionary(example_dict)\n",
    "print(inverted)"
   ]
  },
  {
   "cell_type": "markdown",
   "metadata": {},
   "source": [
    "Explanation:\n",
    "\n",
    "Function Definition: invert_dictionary takes a dictionary as input.\n",
    "Initialization: inverted_dict is initialized to store the inverted key-value pairs.\n",
    "Loop Through Original Dictionary: For each key-value pair in the input dictionary:\n",
    "If the value already exists as a key in inverted_dict, append the current key to the list associated with that value.\n",
    "If the value does not exist, create a new entry with the value as the key and a list containing the current key.\n",
    "Return the Inverted Dictionary: The function returns the inverted dictionary.\n",
    "\n",
    "Example Output:\n",
    "\n",
    "For the input dictionary {'apple': 2, 'banana': 3, 'orange': 2, 'grape': 5}, the output will be:"
   ]
  },
  {
   "cell_type": "code",
   "execution_count": null,
   "metadata": {},
   "outputs": [],
   "source": [
    "{2: ['apple', 'orange'], 3: ['banana'], 5: ['grape']}\n",
    "\n",
    "This output correctly handles the case where multiple keys have the same value by storing them in a list."
   ]
  }
 ],
 "metadata": {
  "kernelspec": {
   "display_name": "Python 3",
   "language": "python",
   "name": "python3"
  },
  "language_info": {
   "codemirror_mode": {
    "name": "ipython",
    "version": 3
   },
   "file_extension": ".py",
   "mimetype": "text/x-python",
   "name": "python",
   "nbconvert_exporter": "python",
   "pygments_lexer": "ipython3",
   "version": "3.12.5"
  }
 },
 "nbformat": 4,
 "nbformat_minor": 2
}
